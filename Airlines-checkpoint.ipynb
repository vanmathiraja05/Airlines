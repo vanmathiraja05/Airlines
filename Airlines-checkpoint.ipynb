{
 "cells": [
  {
   "cell_type": "code",
   "execution_count": 2,
   "id": "dcd0a01f-ae6b-4f93-a348-f548f912a61c",
   "metadata": {},
   "outputs": [
    {
     "name": "stdout",
     "output_type": "stream",
     "text": [
      "Warning: Looks like you're using an outdated `kagglehub` version, please consider updating (latest version: 0.3.3)\n",
      "Path to dataset files: C:\\Users\\vanma\\.cache\\kagglehub\\datasets\\usdot\\flight-delays\\versions\\1\n"
     ]
    }
   ],
   "source": [
    "import kagglehub\n",
    "import os\n",
    "import pandas as pd\n",
    "\n",
    "# Download latest version\n",
    "path = kagglehub.dataset_download(\"usdot/flight-delays\")\n",
    "\n",
    "print(\"Path to dataset files:\", path)"
   ]
  },
  {
   "cell_type": "code",
   "execution_count": 3,
   "id": "c75ceab5-f32d-4a94-8223-b56fcfe2485b",
   "metadata": {},
   "outputs": [],
   "source": [
    "import duckdb\n",
    "conn = duckdb.connect()\n",
    "#conn.read_csv(\"flights.csv\", header = True, )"
   ]
  },
  {
   "cell_type": "code",
   "execution_count": 7,
   "id": "1802bd3b-7f31-48b5-8c1b-80ff0c4e8387",
   "metadata": {},
   "outputs": [
    {
     "data": {
      "text/plain": [
       "┌─────────┬────────────────────────┬────────────────┐\n",
       "│ AR_code │        Airline         │ Avg_Delay_mins │\n",
       "│ varchar │        varchar         │     double     │\n",
       "├─────────┼────────────────────────┼────────────────┤\n",
       "│ HA      │ Hawaiian Airlines Inc. │          15.38 │\n",
       "│ AS      │ Alaska Airlines Inc.   │          22.56 │\n",
       "│ US      │ US Airways Inc.        │          27.42 │\n",
       "│ WN      │ Southwest Airlines Co. │          29.42 │\n",
       "│ VX      │ Virgin America         │          30.73 │\n",
       "└─────────┴────────────────────────┴────────────────┘"
      ]
     },
     "execution_count": 7,
     "metadata": {},
     "output_type": "execute_result"
    }
   ],
   "source": [
    "#Created date column and converted certain column datatype to appropriate column datatype till exempel varchar to time\n",
    "#Taken unique records with reqired columns using row function to calculate Airline delays\n",
    "import duckdb\n",
    "\n",
    "test =duckdb.sql(\"\"\"WITH cte AS (SELECT AIRLINE,FLIGHT_NUMBER ,TAIL_NUMBER , ORIGIN_AIRPORT , DESTINATION_AIRPORT ,make_date(year, month, day) as date1,  \n",
    "           make_time(cast(substring(SCHEDULED_DEPARTURE , 1, 2) as int),cast(substring(SCHEDULED_DEPARTURE , 3, 4) as int),0.00) as SCHEDULED_DEPARTURE ,\n",
    "           make_time(cast(substring(DEPARTURE_TIME  , 1, 2) as int),cast(substring(DEPARTURE_TIME  , 3, 4) as int),0.00) as DEPARTURE_TIME  ,\n",
    "           make_time(cast(substring(SCHEDULED_ARRIVAL  , 1, 2) as int),cast(substring(SCHEDULED_ARRIVAL  , 3, 4) as int),0.00) as SCHEDULED_ARRIVAL  ,\n",
    "           make_time(cast(substring(ARRIVAL_TIME , 1, 2) as int),cast(substring(ARRIVAL_TIME , 3, 4) as int),0.00) as ARRIVAL_TIME ,\n",
    "           ARRIVAL_DELAY  \n",
    "           FROM read_csv('flights.csv') where ARRIVAL_DELAY > 0                   \n",
    "           ),\n",
    "           cte1 as (SELECT *, row_number() OVER (PARTITION BY date1,DEPARTURE_TIME,TAIL_NUMBER  ORDER BY date1,DEPARTURE_TIME) as rn\n",
    "            FROM cte) \n",
    "           select * from cte1 where rn = 1 \"\"\")\n",
    "duckdb.register(\"test_view\", test)\n",
    "airlines = duckdb.sql(\"SELECT * FROM read_csv('airlines.csv')\")\n",
    "duckdb.register(\"airlines_view\", airlines)\n",
    "\n",
    "# Top 5 Airlines Airlines with least Avg Delays\n",
    "duckdb.sql(\"\"\" WITH avgdelay1 AS (SELECT AIRLINE, \n",
    "round(avg(ARRIVAL_DELAY ),2) as Avg_Delay_mins FROM test_view group by Airline) \n",
    "select A.AIRLINE as AR_code,B.Airline as Airline, Avg_Delay_mins from avgdelay1 A left join airlines_view B ON A.Airline = B.IATA_CODE \n",
    "order by Avg_Delay_mins LIMIT 5 \"\"\")\n"
   ]
  },
  {
   "cell_type": "code",
   "execution_count": 19,
   "id": "3ec7202a-7e7e-4077-a4ec-8b784a102846",
   "metadata": {},
   "outputs": [
    {
     "data": {
      "text/plain": [
       "┌─────────┬──────────────────────────────┬─────────────────────┬─────────────────────┐\n",
       "│ AR_code │           Airline            │ No_of_cancellations │ CANCELLATION_REASON │\n",
       "│ varchar │           varchar            │       double        │       varchar       │\n",
       "├─────────┼──────────────────────────────┼─────────────────────┼─────────────────────┤\n",
       "│ AS      │ Alaska Airlines Inc.         │               242.0 │ Airline/Carrier     │\n",
       "│ VX      │ Virgin America               │               259.0 │ National Air System │\n",
       "│ B6      │ JetBlue Airways              │              1258.0 │ Weather             │\n",
       "│ HA      │ Hawaiian Airlines Inc.       │                24.0 │ Airline/Carrier     │\n",
       "│ NK      │ Spirit Air Lines             │               614.0 │ Weather             │\n",
       "│ AA      │ American Airlines Inc.       │              4419.0 │ Weather             │\n",
       "│ F9      │ Frontier Airlines Inc.       │                40.0 │ Airline/Carrier     │\n",
       "│ EV      │ Atlantic Southeast Airlines  │              3194.0 │ National Air System │\n",
       "│ OO      │ Skywest Airlines Inc.        │              3318.0 │ Weather             │\n",
       "│ MQ      │ American Eagle Airlines Inc. │              4533.0 │ Weather             │\n",
       "│ WN      │ Southwest Airlines Co.       │              5126.0 │ Weather             │\n",
       "│ DL      │ Delta Air Lines Inc.         │              1981.0 │ Weather             │\n",
       "│ US      │ US Airways Inc.              │               136.0 │ Airline/Carrier     │\n",
       "│ UA      │ United Air Lines Inc.        │               371.0 │ Airline/Carrier     │\n",
       "├─────────┴──────────────────────────────┴─────────────────────┴─────────────────────┤\n",
       "│ 14 rows                                                                  4 columns │\n",
       "└────────────────────────────────────────────────────────────────────────────────────┘"
      ]
     },
     "execution_count": 19,
     "metadata": {},
     "output_type": "execute_result"
    }
   ],
   "source": [
    "#to find Airlines cancelled mostly due to the cancellation Reason\n",
    "import pandas as pd\n",
    "my_dictionary = {}\n",
    "pandas_df = pd.DataFrame.from_dict({\n",
    "    'Canlellation_code': ['A', 'B', 'C', 'D'],\n",
    "    'Cancellation_reason': ['Airline/Carrier', 'Weather', 'National Air System', 'Security']\n",
    "})\n",
    "cancellation_reason = duckdb.sql(\"SELECT * FROM pandas_df\")\n",
    "duckdb.register(\"cancellation_reason_view\", cancellation_reason)\n",
    "\n",
    "airlines = duckdb.sql(\"SELECT * FROM read_csv('airlines.csv')\")\n",
    "duckdb.register(\"airlines_view\", airlines)\n",
    "\n",
    "duckdb.sql(\"\"\" WITH cte as\n",
    "           (SELECT AIRLINE,FLIGHT_NUMBER ,TAIL_NUMBER ,make_date(year, month, day) as date1,  \n",
    "           make_time(cast(substring(SCHEDULED_DEPARTURE , 1, 2) as int),cast(substring(SCHEDULED_DEPARTURE , 3, 4) as int),0.00) as SCHEDULED_DEPARTURE,\n",
    "            make_time(cast(substring(DEPARTURE_TIME  , 1, 2) as int),cast(substring(DEPARTURE_TIME  , 3, 4) as int),0.00) as DEPARTURE_TIME  ,\n",
    "           CANCELLATION_REASON,\n",
    "           CANCELLED\n",
    "           FROM read_csv('flights.csv') \n",
    "           where CANCELLED = 1            \n",
    "           ),\n",
    "           cte1 as \n",
    "           (SELECT *, row_number() OVER (PARTITION BY date1,DEPARTURE_TIME,TAIL_NUMBER  ORDER BY date1,DEPARTURE_TIME) as rn\n",
    "            FROM cte\n",
    "            ),\n",
    "            noofcancell AS\n",
    "            (SELECT AIRLINE, \n",
    "            round(sum(CANCELLED ),2) as No_of_cancellations, CANCELLATION_REASON FROM cte1  where rn =1\n",
    "            group by Airline,CANCELLATION_REASON \n",
    "            ),\n",
    "            MAxcancell AS \n",
    "            (select * from (SELECT *,row_number() OVER (PARTITION BY AIRLINE ORDER BY No_of_cancellations desc) as rn1\n",
    "            from noofcancell ) where rn1 = 1\n",
    "            )\n",
    "            select A.Airline as AR_code,B.Airline as Airline, No_of_cancellations,C.cancellation_reason as CANCELLATION_REASON \n",
    "            from MAxcancell A left join airlines_view B ON A.Airline = B.IATA_CODE \n",
    "            Left join cancellation_reason_view C ON A.CANCELLATION_REASON = C.Canlellation_code\n",
    "\n",
    " \"\"\")"
   ]
  },
  {
   "cell_type": "code",
   "execution_count": null,
   "id": "df4c6ba8-d884-4433-a58c-ddf657854e31",
   "metadata": {},
   "outputs": [],
   "source": []
  }
 ],
 "metadata": {
  "kernelspec": {
   "display_name": "Python 3 (ipykernel)",
   "language": "python",
   "name": "python3"
  },
  "language_info": {
   "codemirror_mode": {
    "name": "ipython",
    "version": 3
   },
   "file_extension": ".py",
   "mimetype": "text/x-python",
   "name": "python",
   "nbconvert_exporter": "python",
   "pygments_lexer": "ipython3",
   "version": "3.13.0"
  }
 },
 "nbformat": 4,
 "nbformat_minor": 5
}
